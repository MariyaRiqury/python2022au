{
  "nbformat": 4,
  "nbformat_minor": 0,
  "metadata": {
    "anaconda-cloud": {},
    "kernelspec": {
      "display_name": "Python 3",
      "language": "python",
      "name": "python3"
    },
    "language_info": {
      "codemirror_mode": {
        "name": "ipython",
        "version": 3
      },
      "file_extension": ".py",
      "mimetype": "text/x-python",
      "name": "python",
      "nbconvert_exporter": "python",
      "pygments_lexer": "ipython3",
      "version": "3.7.0"
    },
    "colab": {
      "name": "neural.ipynb",
      "provenance": [],
      "collapsed_sections": []
    },
    "accelerator": "GPU"
  },
  "cells": [
    {
      "cell_type": "markdown",
      "metadata": {
        "id": "4A96ezn7hwac"
      },
      "source": [
        "Инспирировано https://m.habr.com/ru/company/wunderfund/blog/314242/"
      ]
    },
    {
      "cell_type": "code",
      "source": [
        ""
      ],
      "metadata": {
        "id": "sHUbHL1n5MtH"
      },
      "execution_count": null,
      "outputs": []
    },
    {
      "cell_type": "code",
      "metadata": {
        "id": "MZLr_KCGFj5u"
      },
      "source": [
        "%tensorflow_version 2.x\n",
        "%matplotlib inline"
      ],
      "execution_count": 1,
      "outputs": []
    },
    {
      "cell_type": "code",
      "metadata": {
        "id": "XriWfnpShwaf",
        "outputId": "b6a44b6f-7127-44de-a596-e42ab16654f9",
        "colab": {
          "base_uri": "https://localhost:8080/"
        }
      },
      "source": [
        "import os\n",
        "import numpy as np\n",
        "\n",
        "import tensorflow as tf\n",
        "import tensorflow\n",
        "from tensorflow.keras.models import Model\n",
        "from tensorflow.keras.layers import Dense, Input\n",
        "import math\n",
        "import logging\n",
        "logging.getLogger('tensorflow').setLevel(logging.WARNING)\n",
        "\n",
        "# tf.enable_eager_execution()\n",
        "\n",
        "print(\"TensorFlow v\", tf.version.VERSION)"
      ],
      "execution_count": 2,
      "outputs": [
        {
          "output_type": "stream",
          "name": "stdout",
          "text": [
            "TensorFlow v 2.8.2\n"
          ]
        }
      ]
    },
    {
      "cell_type": "code",
      "metadata": {
        "id": "KnaWu1pFlgxR"
      },
      "source": [
        ""
      ],
      "execution_count": 2,
      "outputs": []
    },
    {
      "cell_type": "markdown",
      "metadata": {
        "id": "095WUZ4vhwam"
      },
      "source": [
        "Зададим входные данные. `X` — два столбца ($x, y$) по 450 случайных значений. `V` — требуемое значение на выходе нейронной сети."
      ]
    },
    {
      "cell_type": "code",
      "metadata": {
        "id": "1q4xv_MXhwan"
      },
      "source": [
        "# input data\n",
        "\n",
        "np.random.seed(1)\n",
        "A = (np.random.random((1000, 2)) * 4.0 - 2.0).astype(np.float32)\n",
        "V = [np.float32((math.fabs(y) + 2*math.fabs(x)<=2) and (x *x + y*y >= 0.5))  for (x, y) in A]"
      ],
      "execution_count": 3,
      "outputs": []
    },
    {
      "cell_type": "markdown",
      "metadata": {
        "id": "B7IC0rndlhxL"
      },
      "source": [
        "Наймём учителя. Не сами будем учить, а с привлечением внешней помощи в пределах бесплатной квоты Google Colab. У них есть TPU, которые очень быстро научат нашу сеть (когда-нибудь =)), или GPU, которые тоже научат её довольно быстро (сейчас =))."
      ]
    },
    {
      "cell_type": "code",
      "metadata": {
        "id": "1vJJxvq5lgM-",
        "outputId": "9b12f61a-7afa-49c6-9e30-36a4722ae862",
        "colab": {
          "base_uri": "https://localhost:8080/"
        }
      },
      "source": [
        "if len(tensorflow.test.gpu_device_name()):  # GPU\n",
        "    mode = 'GPU'\n",
        "elif False:  # TPU https://stackoverflow.com/a/55686370 — пока не готовы\n",
        "    mode = 'TPU'\n",
        "else:\n",
        "    mode = 'CPU'\n",
        "\n",
        "print(\"Mode:\", mode)\n",
        "# mode = 'CPU'\n",
        "\n",
        "logging.getLogger('tensorflow').setLevel(logging.INFO)\n",
        "if mode == 'GPU':\n",
        "    strategy = tensorflow.distribute.MirroredStrategy(\n",
        "        devices=[tensorflow.test.gpu_device_name()]\n",
        "    )\n",
        "elif mode == 'TPU':\n",
        "    resolver = tf.distribute.cluster_resolver.TPUClusterResolver(tpu='grpc://' + os.environ['COLAB_TPU_ADDR'])\n",
        "    tf.config.experimental_connect_to_host(resolver.master())\n",
        "    tf.tpu.experimental.initialize_tpu_system(resolver)\n",
        "    strategy = tf.distribute.experimental.TPUStrategy(resolver)\n",
        "else:  # mode == 'CPU'\n",
        "      strategy = tensorflow.distribute.MirroredStrategy(devices=['CPU'])\n",
        "\n",
        "logging.getLogger('tensorflow').setLevel(logging.WARNING)\n",
        "print(f\"Strategy is {strategy}.\")"
      ],
      "execution_count": 4,
      "outputs": [
        {
          "output_type": "stream",
          "name": "stdout",
          "text": [
            "Mode: GPU\n",
            "INFO:tensorflow:Using MirroredStrategy with devices ('/job:localhost/replica:0/task:0/device:GPU:0',)\n",
            "Strategy is <tensorflow.python.distribute.mirrored_strategy.MirroredStrategy object at 0x7fe56c513310>.\n"
          ]
        }
      ]
    },
    {
      "cell_type": "markdown",
      "metadata": {
        "id": "5QFbHJnLmFGb"
      },
      "source": [
        "Сконструируем сеть"
      ]
    },
    {
      "cell_type": "code",
      "metadata": {
        "id": "1lThvfVJhwas",
        "outputId": "95e54bfb-7834-478d-aaa9-121b10aeb809",
        "colab": {
          "base_uri": "https://localhost:8080/"
        }
      },
      "source": [
        "with strategy.scope() as scope:\n",
        "    model = tf.keras.Sequential([\n",
        "        Input(2),\n",
        "        Dense(18, activation='sigmoid', use_bias=True),\n",
        "        Dense(1, activation='sigmoid', use_bias=False)\n",
        "    ])\n",
        "\n",
        "    model.compile(\n",
        "        optimizer=tf.keras.optimizers.Adam(learning_rate=1e-3),\n",
        "        loss=tf.keras.losses.mean_squared_error,\n",
        "        metrics='accuracy'\n",
        "    )\n",
        "    print(\"Scope:\", scope)"
      ],
      "execution_count": 5,
      "outputs": [
        {
          "output_type": "stream",
          "name": "stdout",
          "text": [
            "Scope: <tensorflow.python.distribute.mirrored_strategy.MirroredStrategy object at 0x7fe56c513310>\n"
          ]
        }
      ]
    },
    {
      "cell_type": "markdown",
      "metadata": {
        "id": "dWvKG1yehwaw"
      },
      "source": [
        "Научим сеть нуже наконец"
      ]
    },
    {
      "cell_type": "code",
      "metadata": {
        "id": "DljfaU_n-v5c"
      },
      "source": [
        "dataset = tf.data.Dataset.from_tensor_slices((\n",
        "  tf.constant(A, dtype=tf.float32),\n",
        "  tf.constant(V, dtype=tf.float32)\n",
        ")).shuffle(len(A) * 2, reshuffle_each_iteration=True).batch(1000).repeat()"
      ],
      "execution_count": 6,
      "outputs": []
    },
    {
      "cell_type": "code",
      "metadata": {
        "id": "7d3xpJPJhwax",
        "outputId": "b04f2620-8c6d-4c3f-cd19-3ad8fb53e60c",
        "colab": {
          "base_uri": "https://localhost:8080/"
        }
      },
      "source": [
        "if os.path.isfile(\"smart_colab_duckling.h5\"):\n",
        "    model.load_weights(\"smart_colab_duckling.h5\")\n",
        "    print(\"Сеть уже была научена раньше.\")\n",
        "else:\n",
        "    print(\"Учим сеть...\")\n",
        "    model.fit(\\\n",
        "        dataset, \\\n",
        "        epochs=10, \\\n",
        "        steps_per_epoch=4000 \\\n",
        "      )\n",
        "\n",
        "    print(\"Научили сеть. Схороним.\")\n",
        "    model.save_weights(\"smart_colab_duckling.h5\")"
      ],
      "execution_count": 7,
      "outputs": [
        {
          "output_type": "stream",
          "name": "stdout",
          "text": [
            "Учим сеть...\n",
            "Epoch 1/10\n",
            "4000/4000 [==============================] - 34s 7ms/step - loss: 0.1314 - accuracy: 0.8357\n",
            "Epoch 2/10\n",
            "4000/4000 [==============================] - 15s 4ms/step - loss: 0.0934 - accuracy: 0.8628\n",
            "Epoch 3/10\n",
            "4000/4000 [==============================] - 15s 4ms/step - loss: 0.0566 - accuracy: 0.9295\n",
            "Epoch 4/10\n",
            "4000/4000 [==============================] - 15s 4ms/step - loss: 0.0209 - accuracy: 0.9844\n",
            "Epoch 5/10\n",
            "4000/4000 [==============================] - 15s 4ms/step - loss: 0.0093 - accuracy: 0.9924\n",
            "Epoch 6/10\n",
            "4000/4000 [==============================] - 15s 4ms/step - loss: 0.0045 - accuracy: 0.9962\n",
            "Epoch 7/10\n",
            "4000/4000 [==============================] - 17s 4ms/step - loss: 0.0024 - accuracy: 0.9990\n",
            "Epoch 8/10\n",
            "4000/4000 [==============================] - 16s 4ms/step - loss: 0.0014 - accuracy: 0.9990\n",
            "Epoch 9/10\n",
            "4000/4000 [==============================] - 15s 4ms/step - loss: 8.9152e-04 - accuracy: 0.9990\n",
            "Epoch 10/10\n",
            "4000/4000 [==============================] - 15s 4ms/step - loss: 5.9735e-04 - accuracy: 0.9997\n",
            "Научили сеть. Схороним.\n"
          ]
        }
      ]
    },
    {
      "cell_type": "markdown",
      "metadata": {
        "id": "_ko6t8Whhwa1"
      },
      "source": [
        "Ну и теперь посмотрим, как оно научилось ограничивать круг..."
      ]
    },
    {
      "cell_type": "code",
      "metadata": {
        "id": "U4EXbroyhwa2",
        "outputId": "6e2b8562-b4f4-4f0a-c8bd-0d7a9baddbe3",
        "colab": {
          "base_uri": "https://localhost:8080/",
          "height": 266
        }
      },
      "source": [
        "import matplotlib.pyplot as plt\n",
        "\n",
        "plt.axis('equal')\n",
        "\n",
        "c = np.r_[-2:2:0.125]\n",
        "\n",
        "# https://stackoverflow.com/a/11144716/539470 =)\n",
        "XY = np.transpose([np.tile(c, len(c)), np.repeat(c, len(c))])\n",
        "\n",
        "Z = model.predict(XY)\n",
        "\n",
        "for (x, y), z in zip(XY, Z):\n",
        "    plt.scatter(x, y, c='red' if z > 0.025 else 'green')\n",
        "\n",
        "plt.show()"
      ],
      "execution_count": 12,
      "outputs": [
        {
          "output_type": "display_data",
          "data": {
            "text/plain": [
              "<Figure size 432x288 with 1 Axes>"
            ],
            "image/png": "[encoded data removed]"
          },
          "metadata": {
            "needs_background": "light"
          }
        }
      ]
    },
    {
      "cell_type": "code",
      "metadata": {
        "id": "Q68qwN_xhwa7",
        "outputId": "843690fe-84d8-452c-aa4e-176c1662fe6b",
        "colab": {
          "base_uri": "https://localhost:8080/",
          "height": 265
        }
      },
      "source": [
        "plt.axis('equal')\n",
        "\n",
        "def saturate(v):\n",
        "    return min(1, max(0, v))\n",
        "\n",
        "for (x, y), z in zip(XY, Z):\n",
        "    plt.scatter(x, y, color=[(1, 1-saturate(z[0]), 1-saturate(z[0]))])\n",
        "\n",
        "plt.show()"
      ],
      "execution_count": 9,
      "outputs": [
        {
          "output_type": "display_data",
          "data": {
            "text/plain": [
              "<Figure size 432x288 with 1 Axes>"
            ],
            "image/png": "[encoded data removed]"
          },
          "metadata": {
            "needs_background": "light"
          }
        }
      ]
    },
    {
      "cell_type": "code",
      "metadata": {
        "id": "obWP6hX-p54j"
      },
      "source": [
        ""
      ],
      "execution_count": 9,
      "outputs": []
    }
  ]
}